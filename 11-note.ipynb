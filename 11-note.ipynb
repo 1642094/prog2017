{
 "cells": [
  {
   "cell_type": "code",
   "execution_count": 1,
   "metadata": {
    "collapsed": false
   },
   "outputs": [
    {
     "data": {
      "text/plain": [
       "2"
      ]
     },
     "execution_count": 1,
     "metadata": {},
     "output_type": "execute_result"
    }
   ],
   "source": [
    "1+1"
   ]
  },
  {
   "cell_type": "code",
   "execution_count": 2,
   "metadata": {
    "collapsed": false
   },
   "outputs": [
    {
     "data": {
      "text/plain": [
       "1048576"
      ]
     },
     "execution_count": 2,
     "metadata": {},
     "output_type": "execute_result"
    }
   ],
   "source": [
    "2**20"
   ]
  },
  {
   "cell_type": "code",
   "execution_count": 3,
   "metadata": {
    "collapsed": false
   },
   "outputs": [
    {
     "name": "stdout",
     "output_type": "stream",
     "text": [
      "名前は太郎，10歳，体重は20.6Kgです。\n"
     ]
    }
   ],
   "source": [
    "# coding:utf-8\n",
    "name = '太郎'\n",
    "age = 10\n",
    "weight = 20.567\n",
    "print('名前は{0}，{1}歳，体重は{2:.1f}Kgです。'.format(name, age, weight))"
   ]
  },
  {
   "cell_type": "code",
   "execution_count": 4,
   "metadata": {
    "collapsed": false
   },
   "outputs": [
    {
     "name": "stdout",
     "output_type": "stream",
     "text": [
      "何か入力してください：2\n",
      "入力されたのは「2」です。\n"
     ]
    }
   ],
   "source": [
    "# coding:utf-8\n",
    "myStr = input('何か入力してください：')\n",
    "print('入力されたのは「{0}」です。'.format(myStr))"
   ]
  },
  {
   "cell_type": "code",
   "execution_count": 5,
   "metadata": {
    "collapsed": false
   },
   "outputs": [
    {
     "name": "stdout",
     "output_type": "stream",
     "text": [
      "何か入力してください：7\n",
      "入力されたのは「7」です。\n"
     ]
    }
   ],
   "source": [
    "# coding:utf-8\n",
    "myStr = input('何か入力してください：')\n",
    "print('入力されたのは「{0}」です。'.format(myStr))"
   ]
  },
  {
   "cell_type": "code",
   "execution_count": 6,
   "metadata": {
    "collapsed": false
   },
   "outputs": [
    {
     "name": "stdout",
     "output_type": "stream",
     "text": [
      "何か入力してください：8\n",
      "入力されたのは「8」です。\n"
     ]
    }
   ],
   "source": [
    "# coding:utf-8\n",
    "myStr = input('何か入力してください：')\n",
    "print('入力されたのは「{0}」です。'.format(myStr))"
   ]
  },
  {
   "cell_type": "code",
   "execution_count": null,
   "metadata": {
    "collapsed": false
   },
   "outputs": [],
   "source": [
    "# coding:utf-8\n",
    "print('こんにちは')\n",
    "#身長の入力\n",
    "h = input('身長（m）？')\n",
    "print('身長は{0}mですね'.format(h))\n",
    "#体重の入力\n",
    "w = input('体重（kg）？')\n",
    "print('体重は{0}kgですね'.format(w))\n",
    "#BMIの計算\n",
    "bmi = float(w) / float(h) ** 2\n",
    "#BMIの表示\n",
    "print('BMIは{0}です'.format(bmi))\n",
    "print('約{0:.1f}です'.format(bmi))"
   ]
  },
  {
   "cell_type": "code",
   "execution_count": null,
   "metadata": {
    "collapsed": true
   },
   "outputs": [],
   "source": [
    "# coding:utf-8\n",
    "print('こんにちは')\n",
    "#身長の入力\n",
    "h = input('身長（m）？')\n",
    "print('身長は{0}mですね'.format(h))\n",
    "#体重の入力\n",
    "w = input('体重（kg）？')\n",
    "print('体重は{0}kgですね'.format(w))\n",
    "#BMIの計算\n",
    "bmi = float(w) / float(h) ** 2\n",
    "#BMIの表示\n",
    "print('BMIは{0}です'.format(bmi))\n",
    "print('約{0:.1f}です'.format(bmi))"
   ]
  },
  {
   "cell_type": "code",
   "execution_count": null,
   "metadata": {
    "collapsed": true
   },
   "outputs": [],
   "source": [
    "# coding:utf-8\n",
    "print('こんにちは')\n",
    "#身長の入力\n",
    "h = input('身長（m）？')\n",
    "print('身長は{0}mですね'.format(h))\n",
    "#体重の入力\n",
    "w = input('体重（kg）？')\n",
    "print('体重は{0}kgですね'.format(w))\n",
    "#BMIの計算\n",
    "bmi = float(w) / float(h) ** 2\n",
    "#BMIの表示\n",
    "print('BMIは{0}です'.format(bmi))\n",
    "print('約{0:.1f}です'.format(bmi))"
   ]
  },
  {
   "cell_type": "markdown",
   "metadata": {},
   "source": [
    "for，if，whileといったキーワードで始まる行は必ず（ : ）で終わり，次の行は行頭で（ Tab ）キーを使ってインデント"
   ]
  },
  {
   "cell_type": "markdown",
   "metadata": {},
   "source": [
    "条件が成立するときだけ処理を実行するには，if文を使う。\n",
    "条件が成立しなかったときの処理を追加するには，if文の後に，（ else ）で新しいブロックを作る。\n",
    "条件が成立しなかった場合にさらに新たな条件で絞り込むには，（ elif ）を使う"
   ]
  },
  {
   "cell_type": "code",
   "execution_count": null,
   "metadata": {
    "collapsed": true
   },
   "outputs": [],
   "source": []
  }
 ],
 "metadata": {
  "kernelspec": {
   "display_name": "Python 3",
   "language": "python",
   "name": "python3"
  },
  "language_info": {
   "codemirror_mode": {
    "name": "ipython",
    "version": 3
   },
   "file_extension": ".py",
   "mimetype": "text/x-python",
   "name": "python",
   "nbconvert_exporter": "python",
   "pygments_lexer": "ipython3",
   "version": "3.6.0"
  }
 },
 "nbformat": 4,
 "nbformat_minor": 2
}
